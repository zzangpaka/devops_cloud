{
 "cells": [
  {
   "cell_type": "code",
   "execution_count": 2,
   "id": "7b29e273",
   "metadata": {},
   "outputs": [],
   "source": [
    "import xlwings"
   ]
  },
  {
   "cell_type": "code",
   "execution_count": 3,
   "id": "effd3fb1",
   "metadata": {},
   "outputs": [
    {
     "data": {
      "text/plain": [
       "Sheets([<Sheet [통합 문서1]Sheet1>])"
      ]
     },
     "execution_count": 3,
     "metadata": {},
     "output_type": "execute_result"
    }
   ],
   "source": [
    "xlwings.sheets"
   ]
  },
  {
   "cell_type": "code",
   "execution_count": 4,
   "id": "0d9dfbc0",
   "metadata": {},
   "outputs": [
    {
     "data": {
      "text/plain": [
       "<Range [통합 문서1]Sheet1!$A$1>"
      ]
     },
     "execution_count": 4,
     "metadata": {},
     "output_type": "execute_result"
    }
   ],
   "source": [
    "xlwings.Range(\"A1\")"
   ]
  },
  {
   "cell_type": "code",
   "execution_count": 5,
   "id": "2a514b03",
   "metadata": {},
   "outputs": [
    {
     "data": {
      "text/plain": [
       "<Range [통합 문서1]Sheet1!$A$1:$B$10>"
      ]
     },
     "execution_count": 5,
     "metadata": {},
     "output_type": "execute_result"
    }
   ],
   "source": [
    "xlwings.Range(\"A1\").expand()"
   ]
  },
  {
   "cell_type": "code",
   "execution_count": 7,
   "id": "792dfddb",
   "metadata": {},
   "outputs": [
    {
     "data": {
      "text/plain": [
       "[['message', 'browser'],\n",
       " ['로그1', 'chrome'],\n",
       " ['로그2', 'chrome'],\n",
       " ['로그3', 'chrome'],\n",
       " ['로그4', 'chrome'],\n",
       " ['로그5', 'chrome'],\n",
       " ['로그6', 'chrome'],\n",
       " ['로그7', 'chrome'],\n",
       " ['로그8', 'chrome'],\n",
       " ['로그9', 'chrome']]"
      ]
     },
     "execution_count": 7,
     "metadata": {},
     "output_type": "execute_result"
    }
   ],
   "source": [
    "total_rows = xlwings.Range(\"A1\").expand().value\n",
    "total_rows"
   ]
  },
  {
   "cell_type": "code",
   "execution_count": 8,
   "id": "a8163ddc",
   "metadata": {},
   "outputs": [
    {
     "data": {
      "text/plain": [
       "['message', 'browser']"
      ]
     },
     "execution_count": 8,
     "metadata": {},
     "output_type": "execute_result"
    }
   ],
   "source": [
    "column_names = total_rows[0]\n",
    "column_names"
   ]
  },
  {
   "cell_type": "code",
   "execution_count": 9,
   "id": "7148e098",
   "metadata": {},
   "outputs": [
    {
     "data": {
      "text/plain": [
       "[['로그1', 'chrome'],\n",
       " ['로그2', 'chrome'],\n",
       " ['로그3', 'chrome'],\n",
       " ['로그4', 'chrome'],\n",
       " ['로그5', 'chrome'],\n",
       " ['로그6', 'chrome'],\n",
       " ['로그7', 'chrome'],\n",
       " ['로그8', 'chrome'],\n",
       " ['로그9', 'chrome']]"
      ]
     },
     "execution_count": 9,
     "metadata": {},
     "output_type": "execute_result"
    }
   ],
   "source": [
    "total_rows[1:]"
   ]
  },
  {
   "cell_type": "code",
   "execution_count": 10,
   "id": "de64ccf9",
   "metadata": {},
   "outputs": [
    {
     "name": "stdout",
     "output_type": "stream",
     "text": [
      "{'message': '로그1', 'browser': 'chrome'}\n",
      "{'message': '로그2', 'browser': 'chrome'}\n",
      "{'message': '로그3', 'browser': 'chrome'}\n",
      "{'message': '로그4', 'browser': 'chrome'}\n",
      "{'message': '로그5', 'browser': 'chrome'}\n",
      "{'message': '로그6', 'browser': 'chrome'}\n",
      "{'message': '로그7', 'browser': 'chrome'}\n",
      "{'message': '로그8', 'browser': 'chrome'}\n",
      "{'message': '로그9', 'browser': 'chrome'}\n"
     ]
    }
   ],
   "source": [
    "for row in total_rows[1:]:\n",
    "        row_dict = dict(zip(column_names, row))\n",
    "        print(row_dict)"
   ]
  },
  {
   "cell_type": "code",
   "execution_count": 12,
   "id": "75dab991",
   "metadata": {},
   "outputs": [
    {
     "data": {
      "text/plain": [
       "[{'message': '로그1', 'browser': 'chrome'},\n",
       " {'message': '로그2', 'browser': 'chrome'},\n",
       " {'message': '로그3', 'browser': 'chrome'},\n",
       " {'message': '로그4', 'browser': 'chrome'},\n",
       " {'message': '로그5', 'browser': 'chrome'},\n",
       " {'message': '로그6', 'browser': 'chrome'},\n",
       " {'message': '로그7', 'browser': 'chrome'},\n",
       " {'message': '로그8', 'browser': 'chrome'},\n",
       " {'message': '로그9', 'browser': 'chrome'}]"
      ]
     },
     "execution_count": 12,
     "metadata": {},
     "output_type": "execute_result"
    }
   ],
   "source": [
    "# list comprehension\n",
    "rows_data = [\n",
    "    dict(zip(column_names, row))\n",
    "    for row in total_rows[1:]\n",
    "]\n",
    "rows_data"
   ]
  },
  {
   "cell_type": "markdown",
   "id": "e4a962e7",
   "metadata": {},
   "source": [
    "# 정리"
   ]
  },
  {
   "cell_type": "code",
   "execution_count": 16,
   "id": "f99a8a2b",
   "metadata": {},
   "outputs": [
    {
     "data": {
      "text/plain": [
       "[{'message': '로그1', 'browser': 'chrome'},\n",
       " {'message': '로그2', 'browser': 'chrome'},\n",
       " {'message': '로그3', 'browser': 'chrome'},\n",
       " {'message': '로그4', 'browser': 'chrome'},\n",
       " {'message': '로그5', 'browser': 'chrome'},\n",
       " {'message': '로그6', 'browser': 'chrome'},\n",
       " {'message': '로그7', 'browser': 'chrome'},\n",
       " {'message': '로그8', 'browser': 'chrome'},\n",
       " {'message': '로그9', 'browser': 'chrome'}]"
      ]
     },
     "execution_count": 16,
     "metadata": {},
     "output_type": "execute_result"
    }
   ],
   "source": [
    "def get_rows_data():\n",
    "    total_rows = xlwings.Range(\"A1\").expand().value\n",
    "    column_names = total_rows[0]\n",
    "    rows_data = [\n",
    "        dict(zip(column_names, row))\n",
    "        for row in total_rows[1:]\n",
    "    ]\n",
    "    return rows_data\n",
    "\n",
    "get_rows_data()"
   ]
  },
  {
   "cell_type": "markdown",
   "id": "db5b1e1b",
   "metadata": {},
   "source": [
    "# 데이터베이스 접속"
   ]
  },
  {
   "cell_type": "code",
   "execution_count": 17,
   "id": "d373c171",
   "metadata": {},
   "outputs": [],
   "source": [
    "DATABASE = {\n",
    "    \"host\" : \"127.0.0.1\",\n",
    "    \"user\" : \"root\",\n",
    "    \"password\" : \"1234\",\n",
    "    \"db\" : \"myproj11_db\",\n",
    "    \"charset\" : \"utf8\",\n",
    "}"
   ]
  },
  {
   "cell_type": "code",
   "execution_count": 22,
   "id": "06f71b43",
   "metadata": {},
   "outputs": [
    {
     "name": "stdout",
     "output_type": "stream",
     "text": [
      "()\n"
     ]
    }
   ],
   "source": [
    "import pymysql\n",
    "\n",
    "connection = pymysql.connect(**DATABASE)\n",
    "cursor = connection.cursor()\n",
    "cursor.execute(\"SELECT * FROM log;\")\n",
    "print(cursor.fetchall())\n",
    "cursor.close()"
   ]
  },
  {
   "cell_type": "markdown",
   "id": "ec8a9d2b",
   "metadata": {},
   "source": [
    "# with 절"
   ]
  },
  {
   "cell_type": "code",
   "execution_count": 23,
   "id": "7fd3351e",
   "metadata": {},
   "outputs": [],
   "source": [
    "import pymysql\n",
    "from contextlib import contextmanager\n",
    "\n",
    "@contextmanager\n",
    "def db_cursor():\n",
    "    connection = pymysql.connect(**DATABASE)\n",
    "    cursor = connection.cursor()\n",
    "    try:\n",
    "        yield cursor\n",
    "    finally:\n",
    "        cursor.close()"
   ]
  },
  {
   "cell_type": "code",
   "execution_count": 24,
   "id": "e0a79d26",
   "metadata": {},
   "outputs": [
    {
     "name": "stdout",
     "output_type": "stream",
     "text": [
      "()\n"
     ]
    }
   ],
   "source": [
    "with db_cursor() as cursor:\n",
    "    cursor.execute(\"SELECT * FROM log\")\n",
    "    print(cursor.fetchall())"
   ]
  },
  {
   "cell_type": "code",
   "execution_count": 33,
   "id": "c84557ca",
   "metadata": {},
   "outputs": [],
   "source": [
    "column_data = {'message': '로그1', 'browser': 'chrome'}\n",
    "\n",
    "with db_cursor() as cursor:\n",
    "    for row in get_rows_data():\n",
    "        sql = \"INSERT INTO LOG(message, browser) VALUES(%(message)s, %(browser)s)\"\n",
    "        cursor.execute(sql, row_dict)"
   ]
  },
  {
   "cell_type": "markdown",
   "id": "c116d8d6",
   "metadata": {},
   "source": [
    "# SQL 삽입 공격의 예"
   ]
  },
  {
   "cell_type": "code",
   "execution_count": 71,
   "id": "c682415b",
   "metadata": {},
   "outputs": [
    {
     "name": "stdout",
     "output_type": "stream",
     "text": [
      "(1, '로그1', 'chrome')\n"
     ]
    }
   ],
   "source": [
    "with db_cursor() as cursor:\n",
    "    log_id = '1 or 1'\n",
    "    # sql = \"SELECT * FROM log WHERE id = \" + str(log_id)\n",
    "    # sql = \"SELECT * FROM log WHERE id = 1 or 1\"\n",
    "    \n",
    "    sql = \"SELECT * FROM log WHERE id = %s\"\n",
    "    cursor.execute(sql, [log_id])\n",
    "    for row in cursor:\n",
    "        print(row)"
   ]
  },
  {
   "cell_type": "markdown",
   "id": "ca54a95a",
   "metadata": {},
   "source": [
    "# 데이터 매핑의 예"
   ]
  },
  {
   "cell_type": "code",
   "execution_count": 70,
   "id": "e36deb88",
   "metadata": {},
   "outputs": [
    {
     "data": {
      "text/plain": [
       "((1, '로그1', 'chrome'),\n",
       " (2, '로그2', 'chrome'),\n",
       " (3, '로그3', 'chrome'),\n",
       " (20, '로그4', 'chrome'))"
      ]
     },
     "execution_count": 70,
     "metadata": {},
     "output_type": "execute_result"
    }
   ],
   "source": [
    "with db_cursor() as cursor:\n",
    "    cursor.execute(\"SELECT * FROM log\")\n",
    "    rows_data = cursor.fetchall()\n",
    "#    for row in cursor:\n",
    "#        row[0] # id\n",
    "#        row[1] # message\n",
    "#        row[2] # chrome\n",
    "#        print(row)\n",
    "rows_data"
   ]
  },
  {
   "cell_type": "markdown",
   "id": "50cc6059",
   "metadata": {},
   "source": [
    "# dict로의 변환"
   ]
  },
  {
   "cell_type": "markdown",
   "id": "c0a1eb73",
   "metadata": {},
   "source": [
    "# namedtuple"
   ]
  },
  {
   "cell_type": "code",
   "execution_count": 58,
   "id": "36e6ba0c",
   "metadata": {},
   "outputs": [],
   "source": [
    "from collections import namedtuple\n",
    "\n",
    "Log = namedtuple('Log', 'id message browser')"
   ]
  },
  {
   "cell_type": "code",
   "execution_count": 63,
   "id": "fa1f4371",
   "metadata": {},
   "outputs": [
    {
     "name": "stdout",
     "output_type": "stream",
     "text": [
      "1\n",
      "message\n",
      "chrome\n"
     ]
    }
   ],
   "source": [
    "log = (1, 'message', 'chrome')\n",
    "print(log[0])\n",
    "print(log[1])\n",
    "print(log[2])"
   ]
  },
  {
   "cell_type": "code",
   "execution_count": 64,
   "id": "7da28823",
   "metadata": {},
   "outputs": [
    {
     "name": "stdout",
     "output_type": "stream",
     "text": [
      "1\n",
      "message\n",
      "chrome\n"
     ]
    }
   ],
   "source": [
    "log = Log(1, 'message', 'chrome')\n",
    "print(log[0])\n",
    "print(log[1])\n",
    "print(log[2])"
   ]
  },
  {
   "cell_type": "code",
   "execution_count": 65,
   "id": "c39477b4",
   "metadata": {},
   "outputs": [
    {
     "data": {
      "text/plain": [
       "(1, 'message', 'chrome')"
      ]
     },
     "execution_count": 65,
     "metadata": {},
     "output_type": "execute_result"
    }
   ],
   "source": [
    "log.id, log.message, log.browser"
   ]
  },
  {
   "cell_type": "code",
   "execution_count": 67,
   "id": "499365eb",
   "metadata": {},
   "outputs": [
    {
     "data": {
      "text/plain": [
       "[Log(id=1, message='로그1', browser='chrome'),\n",
       " Log(id=2, message='로그2', browser='chrome'),\n",
       " Log(id=3, message='로그3', browser='chrome'),\n",
       " Log(id=20, message='로그4', browser='chrome')]"
      ]
     },
     "execution_count": 67,
     "metadata": {},
     "output_type": "execute_result"
    }
   ],
   "source": [
    "with db_cursor() as cursor:\n",
    "    cursor.execute(\"SELECT * FROM log\")\n",
    "    rows_data = [\n",
    "        Log(*row)\n",
    "        for row in cursor.fetchall()]\n",
    "    \n",
    "rows_data"
   ]
  },
  {
   "cell_type": "code",
   "execution_count": null,
   "id": "9158e816",
   "metadata": {},
   "outputs": [],
   "source": []
  },
  {
   "cell_type": "code",
   "execution_count": null,
   "id": "a154cb44",
   "metadata": {},
   "outputs": [],
   "source": []
  },
  {
   "cell_type": "code",
   "execution_count": null,
   "id": "cf709875",
   "metadata": {},
   "outputs": [],
   "source": []
  },
  {
   "cell_type": "code",
   "execution_count": null,
   "id": "4d5ea423",
   "metadata": {},
   "outputs": [],
   "source": []
  },
  {
   "cell_type": "code",
   "execution_count": 25,
   "id": "18144219",
   "metadata": {},
   "outputs": [
    {
     "data": {
      "text/plain": [
       "[{'message': '로그1', 'browser': 'chrome'},\n",
       " {'message': '로그2', 'browser': 'chrome'},\n",
       " {'message': '로그3', 'browser': 'chrome'},\n",
       " {'message': '로그4', 'browser': 'chrome'},\n",
       " {'message': '로그5', 'browser': 'chrome'},\n",
       " {'message': '로그6', 'browser': 'chrome'},\n",
       " {'message': '로그7', 'browser': 'chrome'},\n",
       " {'message': '로그8', 'browser': 'chrome'},\n",
       " {'message': '로그9', 'browser': 'chrome'}]"
      ]
     },
     "execution_count": 25,
     "metadata": {},
     "output_type": "execute_result"
    }
   ],
   "source": [
    "get_rows_data()"
   ]
  },
  {
   "cell_type": "code",
   "execution_count": null,
   "id": "dd689211",
   "metadata": {},
   "outputs": [],
   "source": []
  },
  {
   "cell_type": "code",
   "execution_count": null,
   "id": "cc151979",
   "metadata": {},
   "outputs": [],
   "source": []
  },
  {
   "cell_type": "markdown",
   "id": "063c3360",
   "metadata": {},
   "source": [
    "# Python에서 사전 만들 때 참고사항"
   ]
  },
  {
   "cell_type": "code",
   "execution_count": null,
   "id": "bea51d3a",
   "metadata": {},
   "outputs": [],
   "source": [
    "d1 = {\n",
    "    'key1': 'value1',\n",
    "    'key2': 'value2',\n",
    "}\n",
    "\n",
    "d2 = dict(\n",
    "    key1='value1',\n",
    "    key2='value2',\n",
    ")"
   ]
  }
 ],
 "metadata": {
  "kernelspec": {
   "display_name": "Python 3 (ipykernel)",
   "language": "python",
   "name": "python3"
  },
  "language_info": {
   "codemirror_mode": {
    "name": "ipython",
    "version": 3
   },
   "file_extension": ".py",
   "mimetype": "text/x-python",
   "name": "python",
   "nbconvert_exporter": "python",
   "pygments_lexer": "ipython3",
   "version": "3.10.0"
  }
 },
 "nbformat": 4,
 "nbformat_minor": 5
}
