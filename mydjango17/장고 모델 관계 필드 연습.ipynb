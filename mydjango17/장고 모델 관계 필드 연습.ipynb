{
 "cells": [
  {
   "cell_type": "code",
   "execution_count": 1,
   "id": "2162879d",
   "metadata": {},
   "outputs": [],
   "source": [
    "import os\n",
    "\n",
    "os.environ[\"DJANGO_SETTINGS_MODULE\"] = \"mydjango17.settings\"\n",
    "os.environ[\"DJANGO_ALLOW_ASYNC_UNSAFE\"] = \"true\"\n",
    "\n",
    "import django\n",
    "django.setup()"
   ]
  },
  {
   "cell_type": "code",
   "execution_count": 2,
   "id": "207827cb",
   "metadata": {},
   "outputs": [],
   "source": [
    "from diary.models import Post, Comment, Tag"
   ]
  },
  {
   "cell_type": "code",
   "execution_count": null,
   "id": "d6d22e70",
   "metadata": {},
   "outputs": [],
   "source": []
  },
  {
   "cell_type": "code",
   "execution_count": 3,
   "id": "218c401c",
   "metadata": {},
   "outputs": [
    {
     "name": "stderr",
     "output_type": "stream",
     "text": [
      "(0.000) SELECT \"diary_post\".\"id\", \"diary_post\".\"created_at\", \"diary_post\".\"updated_at\", \"diary_post\".\"author_name\", \"diary_post\".\"title\", \"diary_post\".\"content\", \"diary_post\".\"photo\" FROM \"diary_post\" LIMIT 21; args=()\n"
     ]
    },
    {
     "data": {
      "text/plain": [
       "<QuerySet [<Post: 송송이 애기때>, <Post: 깜이 할배>, <Post: 송깜이>]>"
      ]
     },
     "execution_count": 3,
     "metadata": {},
     "output_type": "execute_result"
    }
   ],
   "source": [
    "Post.objects.all() # 전체 포스팅 목록"
   ]
  },
  {
   "cell_type": "code",
   "execution_count": 4,
   "id": "b023f580",
   "metadata": {},
   "outputs": [
    {
     "name": "stderr",
     "output_type": "stream",
     "text": [
      "(0.000) SELECT \"diary_comment\".\"id\", \"diary_comment\".\"created_at\", \"diary_comment\".\"updated_at\", \"diary_comment\".\"post_id\", \"diary_comment\".\"author_name\", \"diary_comment\".\"message\" FROM \"diary_comment\" LIMIT 21; args=()\n"
     ]
    },
    {
     "data": {
      "text/plain": [
       "<QuerySet [<Comment: Comment object (1)>, <Comment: Comment object (2)>, <Comment: Comment object (3)>, <Comment: Comment object (4)>, <Comment: Comment object (5)>, <Comment: Comment object (6)>, <Comment: Comment object (7)>, <Comment: Comment object (8)>, <Comment: Comment object (9)>]>"
      ]
     },
     "execution_count": 4,
     "metadata": {},
     "output_type": "execute_result"
    }
   ],
   "source": [
    "Comment.objects.all() # 전체 댓글 목록"
   ]
  },
  {
   "cell_type": "code",
   "execution_count": 5,
   "id": "32a7ab7c",
   "metadata": {},
   "outputs": [
    {
     "name": "stderr",
     "output_type": "stream",
     "text": [
      "(0.000) SELECT \"diary_tag\".\"id\", \"diary_tag\".\"created_at\", \"diary_tag\".\"updated_at\", \"diary_tag\".\"name\" FROM \"diary_tag\" LIMIT 21; args=()\n"
     ]
    },
    {
     "data": {
      "text/plain": [
       "<QuerySet [<Tag: 갱얼쥐>, <Tag: 김송송>, <Tag: 송송이>, <Tag: 김깜이>, <Tag: 하라버지>]>"
      ]
     },
     "execution_count": 5,
     "metadata": {},
     "output_type": "execute_result"
    }
   ],
   "source": [
    "Tag.objects.all() # 전체 태그 목록"
   ]
  },
  {
   "cell_type": "code",
   "execution_count": null,
   "id": "3e9b8068",
   "metadata": {},
   "outputs": [],
   "source": []
  },
  {
   "cell_type": "code",
   "execution_count": 6,
   "id": "5c3b1b90",
   "metadata": {},
   "outputs": [
    {
     "name": "stderr",
     "output_type": "stream",
     "text": [
      "(0.000) SELECT \"diary_post\".\"id\", \"diary_post\".\"created_at\", \"diary_post\".\"updated_at\", \"diary_post\".\"author_name\", \"diary_post\".\"title\", \"diary_post\".\"content\", \"diary_post\".\"photo\" FROM \"diary_post\" WHERE \"diary_post\".\"id\" = 1 LIMIT 21; args=(1,)\n"
     ]
    },
    {
     "data": {
      "text/plain": [
       "<Post: 송송이 애기때>"
      ]
     },
     "execution_count": 6,
     "metadata": {},
     "output_type": "execute_result"
    }
   ],
   "source": [
    "post = Post.objects.get(pk=1) # 1번 포스팅 획득\n",
    "post"
   ]
  },
  {
   "cell_type": "code",
   "execution_count": 7,
   "id": "5ef0b1a4",
   "metadata": {},
   "outputs": [
    {
     "name": "stderr",
     "output_type": "stream",
     "text": [
      "(0.000) SELECT COUNT(*) AS \"__count\" FROM \"diary_comment\"; args=()\n"
     ]
    },
    {
     "data": {
      "text/plain": [
       "9"
      ]
     },
     "execution_count": 7,
     "metadata": {},
     "output_type": "execute_result"
    }
   ],
   "source": [
    "qs = Comment.objects.all()\n",
    "qs.count()"
   ]
  },
  {
   "cell_type": "code",
   "execution_count": 8,
   "id": "bb70ba40",
   "metadata": {},
   "outputs": [
    {
     "name": "stderr",
     "output_type": "stream",
     "text": [
      "(0.000) SELECT COUNT(*) AS \"__count\" FROM \"diary_comment\" WHERE \"diary_comment\".\"post_id\" = 1; args=(1,)\n"
     ]
    },
    {
     "data": {
      "text/plain": [
       "3"
      ]
     },
     "execution_count": 8,
     "metadata": {},
     "output_type": "execute_result"
    }
   ],
   "source": [
    "qs = Comment.objects.all()\n",
    "qs = qs.filter(post=post)\n",
    "qs.count()"
   ]
  },
  {
   "cell_type": "code",
   "execution_count": null,
   "id": "e9430739",
   "metadata": {},
   "outputs": [],
   "source": []
  },
  {
   "cell_type": "code",
   "execution_count": 9,
   "id": "f327b13e",
   "metadata": {},
   "outputs": [
    {
     "name": "stderr",
     "output_type": "stream",
     "text": [
      "(0.000) SELECT \"diary_comment\".\"id\", \"diary_comment\".\"created_at\", \"diary_comment\".\"updated_at\", \"diary_comment\".\"post_id\", \"diary_comment\".\"author_name\", \"diary_comment\".\"message\" FROM \"diary_comment\" WHERE \"diary_comment\".\"id\" = 1 LIMIT 21; args=(1,)\n"
     ]
    }
   ],
   "source": [
    "comment = Comment.objects.get(pk=1)"
   ]
  },
  {
   "cell_type": "code",
   "execution_count": 10,
   "id": "41641999",
   "metadata": {},
   "outputs": [
    {
     "name": "stderr",
     "output_type": "stream",
     "text": [
      "(0.000) SELECT \"diary_post\".\"id\", \"diary_post\".\"created_at\", \"diary_post\".\"updated_at\", \"diary_post\".\"author_name\", \"diary_post\".\"title\", \"diary_post\".\"content\", \"diary_post\".\"photo\" FROM \"diary_post\" WHERE \"diary_post\".\"id\" = 1 LIMIT 21; args=(1,)\n"
     ]
    },
    {
     "data": {
      "text/plain": [
       "<Post: 송송이 애기때>"
      ]
     },
     "execution_count": 10,
     "metadata": {},
     "output_type": "execute_result"
    }
   ],
   "source": [
    "comment.post"
   ]
  },
  {
   "cell_type": "code",
   "execution_count": 13,
   "id": "19ced487",
   "metadata": {},
   "outputs": [
    {
     "name": "stderr",
     "output_type": "stream",
     "text": [
      "(0.000) SELECT \"diary_comment\".\"id\", \"diary_comment\".\"created_at\", \"diary_comment\".\"updated_at\", \"diary_comment\".\"post_id\", \"diary_comment\".\"author_name\", \"diary_comment\".\"message\" FROM \"diary_comment\" WHERE \"diary_comment\".\"id\" = 4 LIMIT 21; args=(4,)\n"
     ]
    }
   ],
   "source": [
    "comment = Comment.objects.get(pk=4)"
   ]
  },
  {
   "cell_type": "code",
   "execution_count": 14,
   "id": "39348d37",
   "metadata": {},
   "outputs": [
    {
     "name": "stderr",
     "output_type": "stream",
     "text": [
      "(0.000) SELECT \"diary_post\".\"id\", \"diary_post\".\"created_at\", \"diary_post\".\"updated_at\", \"diary_post\".\"author_name\", \"diary_post\".\"title\", \"diary_post\".\"content\", \"diary_post\".\"photo\" FROM \"diary_post\" WHERE \"diary_post\".\"id\" = 2 LIMIT 21; args=(2,)\n"
     ]
    },
    {
     "data": {
      "text/plain": [
       "<Post: 깜이 할배>"
      ]
     },
     "execution_count": 14,
     "metadata": {},
     "output_type": "execute_result"
    }
   ],
   "source": [
    "comment.post"
   ]
  },
  {
   "cell_type": "code",
   "execution_count": null,
   "id": "04a6b8b9",
   "metadata": {},
   "outputs": [],
   "source": []
  },
  {
   "cell_type": "code",
   "execution_count": 16,
   "id": "14c12cca",
   "metadata": {},
   "outputs": [
    {
     "name": "stderr",
     "output_type": "stream",
     "text": [
      "(0.000) SELECT \"diary_comment\".\"id\", \"diary_comment\".\"created_at\", \"diary_comment\".\"updated_at\", \"diary_comment\".\"post_id\", \"diary_comment\".\"author_name\", \"diary_comment\".\"message\" FROM \"diary_comment\" WHERE \"diary_comment\".\"post_id\" = 1 LIMIT 21; args=(1,)\n"
     ]
    },
    {
     "data": {
      "text/plain": [
       "<QuerySet [<Comment: Comment object (1)>, <Comment: Comment object (2)>, <Comment: Comment object (3)>]>"
      ]
     },
     "execution_count": 16,
     "metadata": {},
     "output_type": "execute_result"
    }
   ],
   "source": [
    "comment_list = Comment.objects.all().filter(post=post)\n",
    "comment_list"
   ]
  },
  {
   "cell_type": "code",
   "execution_count": 17,
   "id": "9a00179f",
   "metadata": {},
   "outputs": [
    {
     "name": "stderr",
     "output_type": "stream",
     "text": [
      "(0.000) SELECT \"diary_comment\".\"id\", \"diary_comment\".\"created_at\", \"diary_comment\".\"updated_at\", \"diary_comment\".\"post_id\", \"diary_comment\".\"author_name\", \"diary_comment\".\"message\" FROM \"diary_comment\" WHERE \"diary_comment\".\"post_id\" = 1 LIMIT 21; args=(1,)\n"
     ]
    },
    {
     "data": {
      "text/plain": [
       "<QuerySet [<Comment: Comment object (1)>, <Comment: Comment object (2)>, <Comment: Comment object (3)>]>"
      ]
     },
     "execution_count": 17,
     "metadata": {},
     "output_type": "execute_result"
    }
   ],
   "source": [
    "post.comment_set.all()"
   ]
  },
  {
   "cell_type": "code",
   "execution_count": null,
   "id": "c3bcd731",
   "metadata": {},
   "outputs": [],
   "source": []
  },
  {
   "cell_type": "code",
   "execution_count": 18,
   "id": "5c88af0f",
   "metadata": {},
   "outputs": [
    {
     "name": "stderr",
     "output_type": "stream",
     "text": [
      "(0.000) SELECT \"diary_tag\".\"id\", \"diary_tag\".\"created_at\", \"diary_tag\".\"updated_at\", \"diary_tag\".\"name\" FROM \"diary_tag\" INNER JOIN \"diary_post_tag_set\" ON (\"diary_tag\".\"id\" = \"diary_post_tag_set\".\"tag_id\") WHERE \"diary_post_tag_set\".\"post_id\" = 1 LIMIT 21; args=(1,)\n"
     ]
    },
    {
     "data": {
      "text/plain": [
       "<QuerySet [<Tag: 갱얼쥐>, <Tag: 김송송>, <Tag: 송송이>]>"
      ]
     },
     "execution_count": 18,
     "metadata": {},
     "output_type": "execute_result"
    }
   ],
   "source": [
    "post.tag_set.all()"
   ]
  },
  {
   "cell_type": "code",
   "execution_count": null,
   "id": "b31396a8",
   "metadata": {},
   "outputs": [],
   "source": []
  },
  {
   "cell_type": "code",
   "execution_count": 20,
   "id": "048bf7df",
   "metadata": {
    "scrolled": true
   },
   "outputs": [
    {
     "name": "stderr",
     "output_type": "stream",
     "text": [
      "(0.000) SELECT \"diary_post\".\"id\", \"diary_post\".\"created_at\", \"diary_post\".\"updated_at\", \"diary_post\".\"author_name\", \"diary_post\".\"title\", \"diary_post\".\"content\", \"diary_post\".\"photo\" FROM \"diary_post\" INNER JOIN \"diary_post_tag_set\" ON (\"diary_post\".\"id\" = \"diary_post_tag_set\".\"post_id\") INNER JOIN \"diary_tag\" ON (\"diary_post_tag_set\".\"tag_id\" = \"diary_tag\".\"id\") WHERE \"diary_tag\".\"name\" = '갱얼쥐' LIMIT 21; args=('갱얼쥐',)\n"
     ]
    },
    {
     "data": {
      "text/plain": [
       "<QuerySet [<Post: 송송이 애기때>, <Post: 깜이 할배>, <Post: 송깜이>]>"
      ]
     },
     "execution_count": 20,
     "metadata": {},
     "output_type": "execute_result"
    }
   ],
   "source": [
    "qs = Post.objects.all()\n",
    "qs = qs.filter(tag_set__name=\"갱얼쥐\")\n",
    "qs"
   ]
  },
  {
   "cell_type": "code",
   "execution_count": null,
   "id": "2da72f80",
   "metadata": {},
   "outputs": [],
   "source": []
  },
  {
   "cell_type": "code",
   "execution_count": null,
   "id": "da285b50",
   "metadata": {},
   "outputs": [],
   "source": []
  },
  {
   "cell_type": "code",
   "execution_count": null,
   "id": "91c363aa",
   "metadata": {},
   "outputs": [],
   "source": []
  },
  {
   "cell_type": "code",
   "execution_count": null,
   "id": "1dadc467",
   "metadata": {},
   "outputs": [],
   "source": []
  },
  {
   "cell_type": "code",
   "execution_count": null,
   "id": "f930492f",
   "metadata": {},
   "outputs": [],
   "source": []
  }
 ],
 "metadata": {
  "kernelspec": {
   "display_name": "Python 3 (ipykernel)",
   "language": "python",
   "name": "python3"
  },
  "language_info": {
   "codemirror_mode": {
    "name": "ipython",
    "version": 3
   },
   "file_extension": ".py",
   "mimetype": "text/x-python",
   "name": "python",
   "nbconvert_exporter": "python",
   "pygments_lexer": "ipython3",
   "version": "3.10.0"
  }
 },
 "nbformat": 4,
 "nbformat_minor": 5
}
