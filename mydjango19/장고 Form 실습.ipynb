{
 "cells": [
  {
   "cell_type": "code",
   "execution_count": 1,
   "id": "f562ad1d",
   "metadata": {},
   "outputs": [],
   "source": [
    "import os\n",
    "\n",
    "os.environ[\"DJANGO_SETTINGS_MODULE\"] = \"mydjango17.settings\"\n",
    "os.environ[\"DJANGO_ALLOW_ASYNC_UNSAFE\"] = \"true\"\n",
    "\n",
    "import django\n",
    "django.setup()"
   ]
  },
  {
   "cell_type": "code",
   "execution_count": 14,
   "id": "395e0246",
   "metadata": {},
   "outputs": [],
   "source": [
    "from django import forms\n",
    "from django.core.validators import RegexValidator"
   ]
  },
  {
   "cell_type": "code",
   "execution_count": 15,
   "id": "0af7ced9",
   "metadata": {},
   "outputs": [],
   "source": [
    "class PostForm(forms.Form):\n",
    "    title = forms.CharField()\n",
    "    content = forms.CharField()\n",
    "    phone = forms.CharField(\n",
    "        validators=[\n",
    "            RegexValidator(r\"^\\d{3}-?\\d{4}-?\\d{4}$\", message=\"휴대폰 번호를 입력해주세요.\"),\n",
    "        ])"
   ]
  },
  {
   "cell_type": "markdown",
   "id": "3b09ca8f",
   "metadata": {},
   "source": [
    "## 입력 서식을 보여줍니다"
   ]
  },
  {
   "cell_type": "code",
   "execution_count": 4,
   "id": "311186cc",
   "metadata": {},
   "outputs": [
    {
     "data": {
      "text/plain": [
       "'<tr><th><label for=\"id_title\">Title:</label></th><td><input type=\"text\" name=\"title\" required id=\"id_title\"></td></tr>\\n<tr><th><label for=\"id_content\">Content:</label></th><td><input type=\"text\" name=\"content\" required id=\"id_content\"></td></tr>'"
      ]
     },
     "execution_count": 4,
     "metadata": {},
     "output_type": "execute_result"
    }
   ],
   "source": [
    "# 장고 Form을 통해, 입력 서식 HTML을 자동 생성\n",
    "form = PostForm()\n",
    "form.as_table()"
   ]
  },
  {
   "cell_type": "markdown",
   "id": "db18969a",
   "metadata": {},
   "source": [
    "## 입력 서식에 유저가 값을 기입하고, 저장(submit)을 눌렀을 때"
   ]
  },
  {
   "cell_type": "code",
   "execution_count": 17,
   "id": "7ca80e5f",
   "metadata": {},
   "outputs": [
    {
     "name": "stdout",
     "output_type": "stream",
     "text": [
      "유효성 검사에 통과한 값들 : {'title': '제목', 'content': '배고파', 'phone': '01001011010'}\n"
     ]
    }
   ],
   "source": [
    "data = {\n",
    "    \"title\": \"제목\",\n",
    "    \"content\": \"배고파\",\n",
    "    \"phone\" : \"01001011010\"\n",
    "}\n",
    "\n",
    "form = PostForm(data)\n",
    "if form.is_valid():\n",
    "    print(\"유효성 검사에 통과한 값들 :\", form.cleaned_data)\n",
    "else:\n",
    "    print(\"에러 메세지 HTML :\", form.errors)"
   ]
  },
  {
   "cell_type": "code",
   "execution_count": null,
   "id": "f9ca3924",
   "metadata": {},
   "outputs": [],
   "source": []
  },
  {
   "cell_type": "markdown",
   "id": "aa1b64aa",
   "metadata": {},
   "source": [
    "# URL encode 연습"
   ]
  },
  {
   "cell_type": "code",
   "execution_count": 18,
   "id": "b4cddf50",
   "metadata": {},
   "outputs": [],
   "source": [
    "from urllib.parse import urlencode"
   ]
  },
  {
   "cell_type": "code",
   "execution_count": 19,
   "id": "5bd4c102",
   "metadata": {},
   "outputs": [],
   "source": [
    "data = {\n",
    "    \"key1\": \"value1\",\n",
    "    \"key2\": 10,\n",
    "    \"key3\": \"방탄소년단\",\n",
    "}"
   ]
  },
  {
   "cell_type": "code",
   "execution_count": 20,
   "id": "6b2e932a",
   "metadata": {},
   "outputs": [
    {
     "data": {
      "text/plain": [
       "'key1=value1&key2=10&key3=%EB%B0%A9%ED%83%84%EC%86%8C%EB%85%84%EB%8B%A8'"
      ]
     },
     "execution_count": 20,
     "metadata": {},
     "output_type": "execute_result"
    }
   ],
   "source": [
    "# urlencoded 방식으로 인코딩\n",
    "\n",
    "urlencode(data)"
   ]
  },
  {
   "cell_type": "code",
   "execution_count": 22,
   "id": "71faa568",
   "metadata": {},
   "outputs": [
    {
     "data": {
      "text/plain": [
       "b'\\xeb\\xb0\\xa9\\xed\\x83\\x84\\xec\\x86\\x8c\\xeb\\x85\\x84\\xeb\\x8b\\xa8'"
      ]
     },
     "execution_count": 22,
     "metadata": {},
     "output_type": "execute_result"
    }
   ],
   "source": [
    "\"방탄소년단\".encode(\"utf8\")"
   ]
  },
  {
   "cell_type": "code",
   "execution_count": null,
   "id": "f35517aa",
   "metadata": {},
   "outputs": [],
   "source": [
    "# 문자 인코딩(숫자로 변경) / 디코딩(숫자형태를 다시 문자로 복구)\n",
    "\n",
    "# UTF8 : 전 세계 모든 언어를 지원 (UTF16, UTF32도 있음)\n",
    "# euc-kr : 한글만 지원 / cp949 : 한글만 지원(MS가 euc-kr을 확장)"
   ]
  },
  {
   "cell_type": "code",
   "execution_count": 26,
   "id": "96eb3848",
   "metadata": {},
   "outputs": [
    {
     "data": {
      "text/plain": [
       "'방탄소년단'"
      ]
     },
     "execution_count": 26,
     "metadata": {},
     "output_type": "execute_result"
    }
   ],
   "source": [
    "\"방탄소년단\".encode(\"cp949\").decode(\"cp949\")"
   ]
  },
  {
   "cell_type": "code",
   "execution_count": 27,
   "id": "aada9f41",
   "metadata": {},
   "outputs": [
    {
     "ename": "UnicodeDecodeError",
     "evalue": "'utf-8' codec can't decode byte 0xb9 in position 0: invalid start byte",
     "output_type": "error",
     "traceback": [
      "\u001b[1;31m---------------------------------------------------------------------------\u001b[0m",
      "\u001b[1;31mUnicodeDecodeError\u001b[0m                        Traceback (most recent call last)",
      "\u001b[1;32m~\\AppData\\Local\\Temp/ipykernel_8100/2993960552.py\u001b[0m in \u001b[0;36m<module>\u001b[1;34m\u001b[0m\n\u001b[1;32m----> 1\u001b[1;33m \u001b[1;34m\"방탄소년단\"\u001b[0m\u001b[1;33m.\u001b[0m\u001b[0mencode\u001b[0m\u001b[1;33m(\u001b[0m\u001b[1;34m\"euc-kr\"\u001b[0m\u001b[1;33m)\u001b[0m\u001b[1;33m.\u001b[0m\u001b[0mdecode\u001b[0m\u001b[1;33m(\u001b[0m\u001b[1;34m\"UTF8\"\u001b[0m\u001b[1;33m)\u001b[0m\u001b[1;33m\u001b[0m\u001b[1;33m\u001b[0m\u001b[0m\n\u001b[0m",
      "\u001b[1;31mUnicodeDecodeError\u001b[0m: 'utf-8' codec can't decode byte 0xb9 in position 0: invalid start byte"
     ]
    }
   ],
   "source": [
    "\"방탄소년단\".encode(\"euc-kr\").decode(\"UTF8\")"
   ]
  },
  {
   "cell_type": "code",
   "execution_count": null,
   "id": "6d5b24f6",
   "metadata": {},
   "outputs": [],
   "source": []
  },
  {
   "cell_type": "code",
   "execution_count": null,
   "id": "f56425ad",
   "metadata": {},
   "outputs": [],
   "source": []
  }
 ],
 "metadata": {
  "kernelspec": {
   "display_name": "Python 3 (ipykernel)",
   "language": "python",
   "name": "python3"
  },
  "language_info": {
   "codemirror_mode": {
    "name": "ipython",
    "version": 3
   },
   "file_extension": ".py",
   "mimetype": "text/x-python",
   "name": "python",
   "nbconvert_exporter": "python",
   "pygments_lexer": "ipython3",
   "version": "3.10.0"
  }
 },
 "nbformat": 4,
 "nbformat_minor": 5
}
