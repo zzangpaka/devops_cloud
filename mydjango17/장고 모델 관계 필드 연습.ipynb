{
 "cells": [
  {
   "cell_type": "code",
   "execution_count": 1,
   "id": "0cd5bc13",
   "metadata": {},
   "outputs": [],
   "source": [
    "import os\n",
    "\n",
    "os.environ[\"DJANGO_SETTINGS_MODULE\"] = \"mydjango17.settings\"\n",
    "os.environ[\"DJANGO_ALLOW_ASYNC_UNSAFE\"] = \"true\"\n",
    "\n",
    "import django\n",
    "django.setup()"
   ]
  },
  {
   "cell_type": "code",
   "execution_count": 2,
   "id": "5ef9cdbf",
   "metadata": {},
   "outputs": [],
   "source": [
    "from diary.models import Post, Comment, Tag"
   ]
  },
  {
   "cell_type": "code",
   "execution_count": null,
   "id": "8090adf7",
   "metadata": {},
   "outputs": [],
   "source": []
  },
  {
   "cell_type": "code",
   "execution_count": 3,
   "id": "ae43a50e",
   "metadata": {},
   "outputs": [
    {
     "name": "stderr",
     "output_type": "stream",
     "text": [
      "(0.000) SELECT \"diary_post\".\"id\", \"diary_post\".\"created_at\", \"diary_post\".\"updated_at\", \"diary_post\".\"author_name\", \"diary_post\".\"title\", \"diary_post\".\"content\", \"diary_post\".\"photo\" FROM \"diary_post\" LIMIT 21; args=()\n"
     ]
    },
    {
     "data": {
      "text/plain": [
       "<QuerySet [<Post: 송송이 애기때>, <Post: 깜이 할배>, <Post: 송깜이>]>"
      ]
     },
     "execution_count": 3,
     "metadata": {},
     "output_type": "execute_result"
    }
   ],
   "source": [
    "Post.objects.all() # 전체 포스팅 목록"
   ]
  },
  {
   "cell_type": "code",
   "execution_count": 4,
   "id": "9800aa7c",
   "metadata": {},
   "outputs": [
    {
     "name": "stderr",
     "output_type": "stream",
     "text": [
      "(0.000) SELECT \"diary_comment\".\"id\", \"diary_comment\".\"created_at\", \"diary_comment\".\"updated_at\", \"diary_comment\".\"post_id\", \"diary_comment\".\"author_name\", \"diary_comment\".\"message\" FROM \"diary_comment\" LIMIT 21; args=()\n"
     ]
    },
    {
     "data": {
      "text/plain": [
       "<QuerySet [<Comment: Comment object (1)>, <Comment: Comment object (2)>, <Comment: Comment object (3)>, <Comment: Comment object (4)>, <Comment: Comment object (5)>, <Comment: Comment object (6)>, <Comment: Comment object (7)>, <Comment: Comment object (8)>, <Comment: Comment object (9)>]>"
      ]
     },
     "execution_count": 4,
     "metadata": {},
     "output_type": "execute_result"
    }
   ],
   "source": [
    "Comment.objects.all() # 전체 댓글 목록"
   ]
  },
  {
   "cell_type": "code",
   "execution_count": 5,
   "id": "e818cfd6",
   "metadata": {},
   "outputs": [
    {
     "name": "stderr",
     "output_type": "stream",
     "text": [
      "(0.000) SELECT \"diary_tag\".\"id\", \"diary_tag\".\"created_at\", \"diary_tag\".\"updated_at\", \"diary_tag\".\"name\" FROM \"diary_tag\" LIMIT 21; args=()\n"
     ]
    },
    {
     "data": {
      "text/plain": [
       "<QuerySet [<Tag: 갱얼쥐>, <Tag: 김송송>, <Tag: 송송이>, <Tag: 김깜이>, <Tag: 하라버지>]>"
      ]
     },
     "execution_count": 5,
     "metadata": {},
     "output_type": "execute_result"
    }
   ],
   "source": [
    "Tag.objects.all() # 전체 태그 목록"
   ]
  },
  {
   "cell_type": "code",
   "execution_count": null,
   "id": "3ec50717",
   "metadata": {},
   "outputs": [],
   "source": []
  },
  {
   "cell_type": "code",
   "execution_count": 6,
   "id": "3bb5e71d",
   "metadata": {},
   "outputs": [
    {
     "name": "stderr",
     "output_type": "stream",
     "text": [
      "(0.000) SELECT \"diary_post\".\"id\", \"diary_post\".\"created_at\", \"diary_post\".\"updated_at\", \"diary_post\".\"author_name\", \"diary_post\".\"title\", \"diary_post\".\"content\", \"diary_post\".\"photo\" FROM \"diary_post\" WHERE \"diary_post\".\"id\" = 1 LIMIT 21; args=(1,)\n"
     ]
    },
    {
     "data": {
      "text/plain": [
       "<Post: 송송이 애기때>"
      ]
     },
     "execution_count": 6,
     "metadata": {},
     "output_type": "execute_result"
    }
   ],
   "source": [
    "post = Post.objects.get(pk=1) # 1번 포스팅 획득\n",
    "post"
   ]
  },
  {
   "cell_type": "code",
   "execution_count": 7,
   "id": "7d7a653e",
   "metadata": {},
   "outputs": [
    {
     "name": "stderr",
     "output_type": "stream",
     "text": [
      "(0.000) SELECT COUNT(*) AS \"__count\" FROM \"diary_comment\"; args=()\n"
     ]
    },
    {
     "data": {
      "text/plain": [
       "9"
      ]
     },
     "execution_count": 7,
     "metadata": {},
     "output_type": "execute_result"
    }
   ],
   "source": [
    "qs = Comment.objects.all()\n",
    "qs.count()"
   ]
  },
  {
   "cell_type": "code",
   "execution_count": 8,
   "id": "d6570804",
   "metadata": {},
   "outputs": [
    {
     "name": "stderr",
     "output_type": "stream",
     "text": [
      "(0.000) SELECT COUNT(*) AS \"__count\" FROM \"diary_comment\" WHERE \"diary_comment\".\"post_id\" = 1; args=(1,)\n"
     ]
    },
    {
     "data": {
      "text/plain": [
       "3"
      ]
     },
     "execution_count": 8,
     "metadata": {},
     "output_type": "execute_result"
    }
   ],
   "source": [
    "qs = Comment.objects.all()\n",
    "qs = qs.filter(post=post)\n",
    "qs.count()"
   ]
  },
  {
   "cell_type": "code",
   "execution_count": null,
   "id": "02080ea6",
   "metadata": {},
   "outputs": [],
   "source": []
  },
  {
   "cell_type": "code",
   "execution_count": 9,
   "id": "c477b90a",
   "metadata": {},
   "outputs": [
    {
     "name": "stderr",
     "output_type": "stream",
     "text": [
      "(0.000) SELECT \"diary_comment\".\"id\", \"diary_comment\".\"created_at\", \"diary_comment\".\"updated_at\", \"diary_comment\".\"post_id\", \"diary_comment\".\"author_name\", \"diary_comment\".\"message\" FROM \"diary_comment\" WHERE \"diary_comment\".\"id\" = 1 LIMIT 21; args=(1,)\n"
     ]
    }
   ],
   "source": [
    "comment = Comment.objects.get(pk=1)"
   ]
  },
  {
   "cell_type": "code",
   "execution_count": 10,
   "id": "35d2399a",
   "metadata": {},
   "outputs": [
    {
     "name": "stderr",
     "output_type": "stream",
     "text": [
      "(0.000) SELECT \"diary_post\".\"id\", \"diary_post\".\"created_at\", \"diary_post\".\"updated_at\", \"diary_post\".\"author_name\", \"diary_post\".\"title\", \"diary_post\".\"content\", \"diary_post\".\"photo\" FROM \"diary_post\" WHERE \"diary_post\".\"id\" = 1 LIMIT 21; args=(1,)\n"
     ]
    },
    {
     "data": {
      "text/plain": [
       "<Post: 송송이 애기때>"
      ]
     },
     "execution_count": 10,
     "metadata": {},
     "output_type": "execute_result"
    }
   ],
   "source": [
    "comment.post"
   ]
  },
  {
   "cell_type": "code",
   "execution_count": 13,
   "id": "69495c23",
   "metadata": {},
   "outputs": [
    {
     "name": "stderr",
     "output_type": "stream",
     "text": [
      "(0.000) SELECT \"diary_comment\".\"id\", \"diary_comment\".\"created_at\", \"diary_comment\".\"updated_at\", \"diary_comment\".\"post_id\", \"diary_comment\".\"author_name\", \"diary_comment\".\"message\" FROM \"diary_comment\" WHERE \"diary_comment\".\"id\" = 4 LIMIT 21; args=(4,)\n"
     ]
    }
   ],
   "source": [
    "comment = Comment.objects.get(pk=4)"
   ]
  },
  {
   "cell_type": "code",
   "execution_count": 14,
   "id": "a7446f02",
   "metadata": {},
   "outputs": [
    {
     "name": "stderr",
     "output_type": "stream",
     "text": [
      "(0.000) SELECT \"diary_post\".\"id\", \"diary_post\".\"created_at\", \"diary_post\".\"updated_at\", \"diary_post\".\"author_name\", \"diary_post\".\"title\", \"diary_post\".\"content\", \"diary_post\".\"photo\" FROM \"diary_post\" WHERE \"diary_post\".\"id\" = 2 LIMIT 21; args=(2,)\n"
     ]
    },
    {
     "data": {
      "text/plain": [
       "<Post: 깜이 할배>"
      ]
     },
     "execution_count": 14,
     "metadata": {},
     "output_type": "execute_result"
    }
   ],
   "source": [
    "comment.post"
   ]
  },
  {
   "cell_type": "code",
   "execution_count": null,
   "id": "08135c52",
   "metadata": {},
   "outputs": [],
   "source": []
  },
  {
   "cell_type": "code",
   "execution_count": 16,
   "id": "3c1ac56c",
   "metadata": {},
   "outputs": [
    {
     "name": "stderr",
     "output_type": "stream",
     "text": [
      "(0.000) SELECT \"diary_comment\".\"id\", \"diary_comment\".\"created_at\", \"diary_comment\".\"updated_at\", \"diary_comment\".\"post_id\", \"diary_comment\".\"author_name\", \"diary_comment\".\"message\" FROM \"diary_comment\" WHERE \"diary_comment\".\"post_id\" = 1 LIMIT 21; args=(1,)\n"
     ]
    },
    {
     "data": {
      "text/plain": [
       "<QuerySet [<Comment: Comment object (1)>, <Comment: Comment object (2)>, <Comment: Comment object (3)>]>"
      ]
     },
     "execution_count": 16,
     "metadata": {},
     "output_type": "execute_result"
    }
   ],
   "source": [
    "comment_list = Comment.objects.all().filter(post=post)\n",
    "comment_list"
   ]
  },
  {
   "cell_type": "code",
   "execution_count": 17,
   "id": "3ce47e5f",
   "metadata": {},
   "outputs": [
    {
     "name": "stderr",
     "output_type": "stream",
     "text": [
      "(0.000) SELECT \"diary_comment\".\"id\", \"diary_comment\".\"created_at\", \"diary_comment\".\"updated_at\", \"diary_comment\".\"post_id\", \"diary_comment\".\"author_name\", \"diary_comment\".\"message\" FROM \"diary_comment\" WHERE \"diary_comment\".\"post_id\" = 1 LIMIT 21; args=(1,)\n"
     ]
    },
    {
     "data": {
      "text/plain": [
       "<QuerySet [<Comment: Comment object (1)>, <Comment: Comment object (2)>, <Comment: Comment object (3)>]>"
      ]
     },
     "execution_count": 17,
     "metadata": {},
     "output_type": "execute_result"
    }
   ],
   "source": [
    "post.comment_set.all()"
   ]
  },
  {
   "cell_type": "code",
   "execution_count": null,
   "id": "83efc1f5",
   "metadata": {},
   "outputs": [],
   "source": []
  },
  {
   "cell_type": "code",
   "execution_count": 18,
   "id": "d4bdde05",
   "metadata": {},
   "outputs": [
    {
     "name": "stderr",
     "output_type": "stream",
     "text": [
      "(0.000) SELECT \"diary_tag\".\"id\", \"diary_tag\".\"created_at\", \"diary_tag\".\"updated_at\", \"diary_tag\".\"name\" FROM \"diary_tag\" INNER JOIN \"diary_post_tag_set\" ON (\"diary_tag\".\"id\" = \"diary_post_tag_set\".\"tag_id\") WHERE \"diary_post_tag_set\".\"post_id\" = 1 LIMIT 21; args=(1,)\n"
     ]
    },
    {
     "data": {
      "text/plain": [
       "<QuerySet [<Tag: 갱얼쥐>, <Tag: 김송송>, <Tag: 송송이>]>"
      ]
     },
     "execution_count": 18,
     "metadata": {},
     "output_type": "execute_result"
    }
   ],
   "source": [
    "post.tag_set.all()"
   ]
  },
  {
   "cell_type": "code",
   "execution_count": null,
   "id": "3ca1c1f1",
   "metadata": {},
   "outputs": [],
   "source": []
  },
  {
   "cell_type": "code",
   "execution_count": 20,
   "id": "16327bb4",
   "metadata": {
    "scrolled": true
   },
   "outputs": [
    {
     "name": "stderr",
     "output_type": "stream",
     "text": [
      "(0.000) SELECT \"diary_post\".\"id\", \"diary_post\".\"created_at\", \"diary_post\".\"updated_at\", \"diary_post\".\"author_name\", \"diary_post\".\"title\", \"diary_post\".\"content\", \"diary_post\".\"photo\" FROM \"diary_post\" INNER JOIN \"diary_post_tag_set\" ON (\"diary_post\".\"id\" = \"diary_post_tag_set\".\"post_id\") INNER JOIN \"diary_tag\" ON (\"diary_post_tag_set\".\"tag_id\" = \"diary_tag\".\"id\") WHERE \"diary_tag\".\"name\" = '갱얼쥐' LIMIT 21; args=('갱얼쥐',)\n"
     ]
    },
    {
     "data": {
      "text/plain": [
       "<QuerySet [<Post: 송송이 애기때>, <Post: 깜이 할배>, <Post: 송깜이>]>"
      ]
     },
     "execution_count": 20,
     "metadata": {},
     "output_type": "execute_result"
    }
   ],
   "source": [
    "qs = Post.objects.all()\n",
    "qs = qs.filter(tag_set__name=\"갱얼쥐\")\n",
    "qs"
   ]
  },
  {
   "cell_type": "code",
   "execution_count": null,
   "id": "70f88166",
   "metadata": {},
   "outputs": [],
   "source": []
  },
  {
   "cell_type": "code",
   "execution_count": null,
   "id": "02efcb22",
   "metadata": {},
   "outputs": [],
   "source": []
  },
  {
   "cell_type": "code",
   "execution_count": null,
   "id": "1a6034a0",
   "metadata": {},
   "outputs": [],
   "source": []
  },
  {
   "cell_type": "code",
   "execution_count": null,
   "id": "2c77b93a",
   "metadata": {},
   "outputs": [],
   "source": []
  },
  {
   "cell_type": "code",
   "execution_count": null,
   "id": "f45acf0e",
   "metadata": {},
   "outputs": [],
   "source": []
  }
 ],
 "metadata": {
  "kernelspec": {
   "display_name": "Python 3 (ipykernel)",
   "language": "python",
   "name": "python3"
  },
  "language_info": {
   "codemirror_mode": {
    "name": "ipython",
    "version": 3
   },
   "file_extension": ".py",
   "mimetype": "text/x-python",
   "name": "python",
   "nbconvert_exporter": "python",
   "pygments_lexer": "ipython3",
   "version": "3.10.0"
  }
 },
 "nbformat": 4,
 "nbformat_minor": 5
}
